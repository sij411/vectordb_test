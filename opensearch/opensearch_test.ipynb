{
 "cells": [
  {
   "cell_type": "code",
   "execution_count": null,
   "metadata": {},
   "outputs": [],
   "source": []
  },
  {
   "cell_type": "markdown",
   "metadata": {},
   "source": [
    "## General review\n",
    "documentation impressions\n",
    "- https://opensearch.org/docs/latest/getting-started/intro/ \n",
    "- focused on document search?\n",
    "- \"OpenSearch uses the BM25 ranking algorithm to calculate document relevance scores and then returns the results sorted by relevance.\"\n",
    "\n",
    "They do care about document search, relevance things, etc.\n",
    "\n",
    "UI\n",
    "- open http://localhost:5601/\n",
    "\n",
    "\n",
    "- https://github.com/opensearch-project/opensearch-py/blob/main/USER_GUIDE.md#creating-an-index\n"
   ]
  },
  {
   "cell_type": "markdown",
   "metadata": {},
   "source": [
    "## Hybrid search review\n",
    "- https://opensearch.org/docs/latest/search-plugins/hybrid-search/#step-1-create-an-ingest-pipeline\n",
    "\n",
    "- Insert data -> not good (should config pipelines or something)\n",
    "- Documentation good\n",
    "- Configure model -> good <hr>\n",
    "\n",
    "\n",
    "request\n",
    "```\n",
    "GET /my-nlp-index/_search?search_pipeline=nlp-search-pipeline\n",
    "{\n",
    "  \"_source\": {\n",
    "    \"exclude\": [\n",
    "      \"passage_embedding\"\n",
    "    ]\n",
    "  },\n",
    "  \"query\": {\n",
    "    \"hybrid\": {\n",
    "      \"queries\": [\n",
    "        {\n",
    "          \"match\": {\n",
    "            \"text\": {\n",
    "              \"query\": \"cowboy rodeo bronco\"\n",
    "            }\n",
    "          }\n",
    "        },\n",
    "        {\n",
    "          \"neural\": {\n",
    "            \"passage_embedding\": {\n",
    "              \"query_text\": \"wild west\",\n",
    "              \"model_id\": \"CM6SGZIBXZwX3jIm7TxM\",\n",
    "              \"k\": 5\n",
    "            }\n",
    "          }\n",
    "        }\n",
    "      ]\n",
    "    }\n",
    "  }\n",
    "}\n",
    "```\n",
    "\n",
    "response\n",
    "```\n",
    "{\n",
    "  \"took\": 366,\n",
    "  \"timed_out\": false,\n",
    "  \"_shards\": {\n",
    "    \"total\": 1,\n",
    "    \"successful\": 1,\n",
    "    \"skipped\": 0,\n",
    "    \"failed\": 0\n",
    "  },\n",
    "  \"hits\": {\n",
    "    \"total\": {\n",
    "      \"value\": 3,\n",
    "      \"relation\": \"eq\"\n",
    "    },\n",
    "    \"max_score\": 0.3,\n",
    "    \"hits\": [\n",
    "      {\n",
    "        \"_index\": \"my-nlp-index\",\n",
    "        \"_id\": \"3\",\n",
    "        \"_score\": 0.3,\n",
    "        \"_source\": {\n",
    "          \"text\": \"People line the stands which advertise Freemont 's orthopedics , a cowboy rides a light brown bucking bronco .\",\n",
    "          \"id\": \"2664027527.jpg\"\n",
    "        }\n",
    "      },\n",
    "      {\n",
    "        \"_index\": \"my-nlp-index\",\n",
    "        \"_id\": \"5\",\n",
    "        \"_score\": 0.26955464,\n",
    "        \"_source\": {\n",
    "          \"text\": \"A rodeo cowboy , wearing a cowboy hat , is being thrown off of a wild white horse .\",\n",
    "          \"id\": \"2691147709.jpg\"\n",
    "        }\n",
    "      },\n",
    "      {\n",
    "        \"_index\": \"my-nlp-index\",\n",
    "        \"_id\": \"4\",\n",
    "        \"_score\": 0.0003,\n",
    "        \"_source\": {\n",
    "          \"text\": \"A man who is riding a wild horse in the rodeo is very near to falling off .\",\n",
    "          \"id\": \"4427058951.jpg\"\n",
    "        }\n",
    "      }\n",
    "    ]\n",
    "  }\n",
    "}\n",
    "```"
   ]
  },
  {
   "cell_type": "code",
   "execution_count": 1,
   "metadata": {},
   "outputs": [],
   "source": [
    "from opensearchpy import OpenSearch"
   ]
  },
  {
   "cell_type": "code",
   "execution_count": 19,
   "metadata": {},
   "outputs": [],
   "source": [
    "host = 'localhost'\n",
    "port = 9200\n",
    "\n",
    "# Create the client with SSL/TLS and hostname verification disabled.\n",
    "client = OpenSearch(\n",
    "    hosts = [{'host': host, 'port': port}],\n",
    "    http_auth=('admin', 'Kwonjiwon411!'),\n",
    "    http_compress = True, # enables gzip compression for request bodies\n",
    "    use_ssl = True,\n",
    "    verify_certs = False,\n",
    "    ssl_assert_hostname = False,\n",
    "    ssl_show_warn = False\n",
    ")"
   ]
  },
  {
   "cell_type": "markdown",
   "metadata": {},
   "source": [
    "# upload mapping\n",
    "curl -H \"Content-Type: application/x-ndjson\" -X PUT \"https://localhost:9200/test\" -ku admin:<passwords> --data-binary \"@test_mapping.json\"\n",
    "\n",
    "curl -H \"Content-Type: application/x-ndjson\" -X PUT \"https://localhost:9200/test/_bulk\" -ku admin:Kwonjiwon411! --data-binary \"@test_data.json\""
   ]
  },
  {
   "cell_type": "code",
   "execution_count": null,
   "metadata": {},
   "outputs": [],
   "source": [
    "index_name = 'test2'\n",
    "index_body = {\n",
    "  'settings': {\n",
    "    'index': {\n",
    "      'number_of_shards': 4\n",
    "    }\n",
    "  }\n",
    "}\n",
    "\n",
    "response = client.indices.create(index_name, body=index_body)\n",
    "\n",
    "print(response)"
   ]
  },
  {
   "cell_type": "code",
   "execution_count": 33,
   "metadata": {},
   "outputs": [],
   "source": [
    "import json\n",
    "\n",
    "json_file = open('test_data.json', encoding='utf-8')\n",
    "test_data = json.load(json_file)\n",
    "\n",
    "tests = ''\n",
    "id = 1\n",
    "for line in test_data:\n",
    "    response = client.index(\n",
    "        index = 'test2',\n",
    "        body = line,\n",
    "        id = str(id),\n",
    "        refresh = True\n",
    "    )\n",
    "    id += 1\n",
    "    tests = tests + \"\\n\" + str(response)\n",
    "\n"
   ]
  },
  {
   "cell_type": "code",
   "execution_count": null,
   "metadata": {},
   "outputs": [],
   "source": [
    "client.bulk(tests)"
   ]
  },
  {
   "cell_type": "code",
   "execution_count": null,
   "metadata": {},
   "outputs": [],
   "source": [
    "# keyword search\n",
    "\n",
    "# korean may not work? \n",
    "\n",
    "\n",
    "q = 'news'\n",
    "query = {\n",
    "  'size': 5,\n",
    "  'query': {\n",
    "    'multi_match': {\n",
    "      'query': q\n",
    "    }\n",
    "  }\n",
    "}\n",
    "\n",
    "response = client.search(\n",
    "    body = query,\n",
    "    index = index_name\n",
    ")\n",
    "print(response)"
   ]
  },
  {
   "cell_type": "code",
   "execution_count": null,
   "metadata": {},
   "outputs": [],
   "source": [
    "# model id CM6SGZIBXZwX3jIm7TxM"
   ]
  }
 ],
 "metadata": {
  "kernelspec": {
   "display_name": "Python 3",
   "language": "python",
   "name": "python3"
  },
  "language_info": {
   "codemirror_mode": {
    "name": "ipython",
    "version": 3
   },
   "file_extension": ".py",
   "mimetype": "text/x-python",
   "name": "python",
   "nbconvert_exporter": "python",
   "pygments_lexer": "ipython3",
   "version": "3.12.6"
  }
 },
 "nbformat": 4,
 "nbformat_minor": 2
}
