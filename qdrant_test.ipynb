{
 "cells": [
  {
   "cell_type": "markdown",
   "metadata": {},
   "source": [
    "Ratings \n",
    "- Documentation is quite good. It's beginner-friendly, and provides various kinds of tutorials.\n",
    "- Access UI: localhost/dashboard"
   ]
  },
  {
   "cell_type": "code",
   "execution_count": 7,
   "metadata": {},
   "outputs": [],
   "source": [
    "from qdrant_client import models, QdrantClient\n",
    "from sentence_transformers import SentenceTransformer"
   ]
  },
  {
   "cell_type": "code",
   "execution_count": null,
   "metadata": {},
   "outputs": [],
   "source": [
    "encoder = SentenceTransformer(\"all-MiniLM-L6-v2\")"
   ]
  },
  {
   "cell_type": "code",
   "execution_count": 9,
   "metadata": {},
   "outputs": [],
   "source": []
  },
  {
   "cell_type": "code",
   "execution_count": 10,
   "metadata": {},
   "outputs": [],
   "source": [
    "# define where to store embeddings (currently in my local memory)\n",
    "client = QdrantClient(url=\"http://localhost:6333\")"
   ]
  },
  {
   "cell_type": "code",
   "execution_count": 11,
   "metadata": {},
   "outputs": [],
   "source": [
    "client.set_model(\"sentence-transformers/all-MiniLM-L6-v2\")\n",
    "# comment this line to use dense vectors only\n",
    "client.set_sparse_model(\"prithivida/Splade_PP_en_v1\")"
   ]
  },
  {
   "cell_type": "code",
   "execution_count": null,
   "metadata": {},
   "outputs": [],
   "source": [
    "# create a collection\n",
    "\n",
    "client.create_collection(\n",
    "    collection_name=\"test2\",\n",
    "    # vectors_config=models.VectorParams(\n",
    "    #     size=encoder.get_sentence_embedding_dimension(),  # Vector size is defined by used model\n",
    "    #     distance=models.Distance.COSINE,\n",
    "    # ),\n",
    "    vectors_config=client.get_fastembed_vector_params(),\n",
    "    sparse_vectors_config=client.get_fastembed_sparse_vector_params(),\n",
    ")"
   ]
  },
  {
   "cell_type": "code",
   "execution_count": 23,
   "metadata": {},
   "outputs": [],
   "source": [
    "import json\n",
    "\n",
    "json_file = open('test_data.json', encoding='utf-8')\n",
    "test_data = json.load(json_file)\n",
    "\n",
    "korean = []\n",
    "english = []\n",
    "metadata = []\n",
    "\n",
    "for line in test_data:\n",
    "    korean.append(line.pop(\"korean\"))\n",
    "    english.append(line.pop(\"english\"))\n",
    "    metadata.append(line)"
   ]
  },
  {
   "cell_type": "code",
   "execution_count": null,
   "metadata": {},
   "outputs": [],
   "source": [
    "\n",
    "# encode\n",
    "client.add(\n",
    "    collection_name=\"test2\",\n",
    "    documents=english,\n",
    "    metadata=metadata,\n",
    "    parallel=0,  # Use all available CPU cores to encode data. \n",
    "    # Requires wrapping code into if __name__ == '__main__' block\n",
    ")"
   ]
  },
  {
   "cell_type": "code",
   "execution_count": null,
   "metadata": {},
   "outputs": [],
   "source": [
    "from tqdm import tqdm\n",
    "# upload\n",
    "client.add(\n",
    "    collection_name=\"startups\",\n",
    "    documents=english,\n",
    "    metadata=metadata,\n",
    "    ids=tqdm(range(len(english))),\n",
    ")"
   ]
  },
  {
   "cell_type": "code",
   "execution_count": 27,
   "metadata": {},
   "outputs": [],
   "source": [
    "client.upload_points(\n",
    "    collection_name=\"test\",\n",
    "    points=[\n",
    "        models.PointStruct(\n",
    "            id=idx, vector=encoder.encode(doc[\"english\"]).tolist(), payload=doc\n",
    "        )\n",
    "        for idx, doc in enumerate(test_data)\n",
    "        \n",
    "      \n",
    "    ],\n",
    ")"
   ]
  },
  {
   "cell_type": "markdown",
   "metadata": {},
   "source": [
    "## Hybrid search\n",
    "the hybrid search class will need 3 things: \n",
    "1) models to convert the query into a vector, \n",
    "2) the Qdrant client to perform search queries, \n",
    "3) fusion function to re-rank dense and sparse search results."
   ]
  }
 ],
 "metadata": {
  "kernelspec": {
   "display_name": "base",
   "language": "python",
   "name": "python3"
  },
  "language_info": {
   "codemirror_mode": {
    "name": "ipython",
    "version": 3
   },
   "file_extension": ".py",
   "mimetype": "text/x-python",
   "name": "python",
   "nbconvert_exporter": "python",
   "pygments_lexer": "ipython3",
   "version": "3.12.6"
  }
 },
 "nbformat": 4,
 "nbformat_minor": 2
}
