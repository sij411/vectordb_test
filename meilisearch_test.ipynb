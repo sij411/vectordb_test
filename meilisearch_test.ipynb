{
 "cells": [
  {
   "cell_type": "code",
   "execution_count": null,
   "metadata": {},
   "outputs": [],
   "source": [
    "import meilisearch\n",
    "import json\n",
    "\n",
    "client = meilisearch.Client('http://localhost:7700', 'aSampleMasterKey')\n",
    "\n",
    "json_file = open('test_data.json', encoding='utf-8')\n",
    "test = json.load(json_file)\n",
    "client.index('test').add_documents(test)\n"
   ]
  },
  {
   "cell_type": "markdown",
   "metadata": {},
   "source": [
    "# Enable vector search\n",
    "\n",
    "https://www.meilisearch.com/docs/learn/experimental/vector_search#distribution-shift\n",
    "\n",
    "Notes\n",
    "- indexing takes some time\n",
    "- normal laptop can't handle that obvi\n"
   ]
  },
  {
   "cell_type": "code",
   "execution_count": null,
   "metadata": {},
   "outputs": [],
   "source": []
  }
 ],
 "metadata": {
  "kernelspec": {
   "display_name": "base",
   "language": "python",
   "name": "python3"
  },
  "language_info": {
   "codemirror_mode": {
    "name": "ipython",
    "version": 3
   },
   "file_extension": ".py",
   "mimetype": "text/x-python",
   "name": "python",
   "nbconvert_exporter": "python",
   "pygments_lexer": "ipython3",
   "version": "3.12.5"
  }
 },
 "nbformat": 4,
 "nbformat_minor": 2
}
